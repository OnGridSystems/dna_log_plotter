{
 "cells": [
  {
   "cell_type": "code",
   "execution_count": 38,
   "metadata": {},
   "outputs": [],
   "source": [
    "import os\n",
    "os.environ['BOARD_HOST'] = 'http://192.168.88.155'\n",
    "os.environ['BOARD_PORT'] = '8081'"
   ]
  },
  {
   "cell_type": "code",
   "execution_count": 104,
   "metadata": {},
   "outputs": [
    {
     "name": "stdout",
     "output_type": "stream",
     "text": [
      "http://192.168.88.155:8081\n"
     ]
    }
   ],
   "source": [
    "import controls\n",
    "import importlib\n",
    "importlib.reload(controls)\n",
    "from controls import *\n",
    "print(BOARD_URI)"
   ]
  },
  {
   "cell_type": "code",
   "execution_count": 41,
   "metadata": {
    "scrolled": true
   },
   "outputs": [
    {
     "data": {
      "text/plain": [
       "[{'name': '2020-06-16T14.00.50',\n",
       "  'frames': 222,\n",
       "  'integrity': 96.94323144104804,\n",
       "  'loss_mean': 1.3333333333333333,\n",
       "  'loss_max': 2,\n",
       "  'loss_min': 1,\n",
       "  'duration': 3},\n",
       " {'name': '2020-06-16T14.07.45',\n",
       "  'frames': 201,\n",
       "  'integrity': 96.63461538461539,\n",
       "  'loss_mean': 1.6,\n",
       "  'loss_max': 2,\n",
       "  'loss_min': 1,\n",
       "  'duration': 3},\n",
       " {'name': '2020-06-16T14.04.00',\n",
       "  'frames': 6437,\n",
       "  'integrity': 96.33343310386113,\n",
       "  'loss_mean': 1.662162162162162,\n",
       "  'loss_max': 2,\n",
       "  'loss_min': 1,\n",
       "  'duration': 86},\n",
       " {'name': '2020-06-16T14.09.23',\n",
       "  'frames': 23350,\n",
       "  'integrity': 96.08262694428443,\n",
       "  'loss_mean': 1.7879924953095685,\n",
       "  'loss_max': 2,\n",
       "  'loss_min': 1,\n",
       "  'duration': 314},\n",
       " {'name': '2020-06-16T14.08.56',\n",
       "  'frames': 379,\n",
       "  'integrity': 96.19289340101524,\n",
       "  'loss_mean': 1.7777777777777777,\n",
       "  'loss_max': 2,\n",
       "  'loss_min': 1,\n",
       "  'duration': 5},\n",
       " {'name': '2020-06-16T14.01.03',\n",
       "  'frames': 148,\n",
       "  'integrity': 96.73202614379085,\n",
       "  'loss_mean': 2.0,\n",
       "  'loss_max': 2,\n",
       "  'loss_min': 2,\n",
       "  'duration': 2}]"
      ]
     },
     "execution_count": 41,
     "metadata": {},
     "output_type": "execute_result"
    }
   ],
   "source": [
    "Recording.get_recordings()"
   ]
  },
  {
   "cell_type": "code",
   "execution_count": 87,
   "metadata": {},
   "outputs": [
    {
     "name": "stdout",
     "output_type": "stream",
     "text": [
      "2020-06-16T14.00.50_1-3\n",
      "downloading frame 1\n",
      "downloading frame 2\n",
      "downloading frame 3\n"
     ]
    },
    {
     "data": {
      "text/plain": [
       "'2020-06-16T14.00.50_1-3'"
      ]
     },
     "execution_count": 87,
     "metadata": {},
     "output_type": "execute_result"
    }
   ],
   "source": [
    "# download_partial_recording(name, [start, end])\n",
    "# only name to save the whole file\n",
    "# only start to save the n=start frame\n",
    "# both start and end to save [start, end]\n",
    "download_partial_recording('2020-06-16T14.00.50', 1, 3)"
   ]
  },
  {
   "cell_type": "code",
   "execution_count": 108,
   "metadata": {},
   "outputs": [
    {
     "name": "stdout",
     "output_type": "stream",
     "text": [
      "frames: 3.0 | 8847660\n"
     ]
    },
    {
     "data": {
      "text/plain": [
       "[(1, 11565), (2, 11565)]"
      ]
     },
     "execution_count": 108,
     "metadata": {},
     "output_type": "execute_result"
    }
   ],
   "source": [
    "# slice_pixel(name, pixel, [start, end])\n",
    "# only name and pixel to check the whole file\n",
    "# only start to get pixel from n=start frame\n",
    "# both start and end to get pixels [start, end]\n",
    "slice_pixel('2020-06-16T14.00.50_1-3', 1, 1, 2)"
   ]
  }
 ],
 "metadata": {
  "kernelspec": {
   "display_name": "Python 3",
   "language": "python",
   "name": "python3"
  },
  "language_info": {
   "codemirror_mode": {
    "name": "ipython",
    "version": 3
   },
   "file_extension": ".py",
   "mimetype": "text/x-python",
   "name": "python",
   "nbconvert_exporter": "python",
   "pygments_lexer": "ipython3",
   "version": "3.8.3"
  }
 },
 "nbformat": 4,
 "nbformat_minor": 4
}
