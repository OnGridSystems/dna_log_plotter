{
 "cells": [
  {
   "cell_type": "code",
   "execution_count": 4,
   "metadata": {},
   "outputs": [],
   "source": [
    "import os\n",
    "os.environ['BOARD_HOST'] = 'http://192.168.3.29'\n",
    "os.environ['BOARD_PORT'] = '8081'"
   ]
  },
  {
   "cell_type": "code",
   "execution_count": 31,
   "metadata": {},
   "outputs": [
    {
     "name": "stdout",
     "output_type": "stream",
     "text": [
      "http://192.168.3.29:8081\n"
     ]
    }
   ],
   "source": [
    "import controls\n",
    "import importlib\n",
    "importlib.reload(controls)\n",
    "from controls import *\n",
    "print(BOARD_URI)"
   ]
  },
  {
   "cell_type": "code",
   "execution_count": 6,
   "metadata": {
    "scrolled": true
   },
   "outputs": [
    {
     "data": {
      "text/plain": [
       "[{'name': '2020-06-16T14.00.50',\n",
       "  'frames': 222,\n",
       "  'integrity': 96.94323144104804,\n",
       "  'loss_mean': 1.3333333333333333,\n",
       "  'loss_max': 2,\n",
       "  'loss_min': 1,\n",
       "  'duration': 3},\n",
       " {'name': '2020-06-16T14.07.45',\n",
       "  'frames': 201,\n",
       "  'integrity': 96.63461538461539,\n",
       "  'loss_mean': 1.6,\n",
       "  'loss_max': 2,\n",
       "  'loss_min': 1,\n",
       "  'duration': 3},\n",
       " {'name': '2020-06-18T16.56.41',\n",
       "  'frames': 279,\n",
       "  'integrity': 91.77631578947368,\n",
       "  'loss_mean': 2.3636363636363638,\n",
       "  'loss_max': 4,\n",
       "  'loss_min': 2,\n",
       "  'duration': 4},\n",
       " {'name': '2020-06-20T18.13.38',\n",
       "  'frames': 273,\n",
       "  'integrity': 92.54237288135593,\n",
       "  'loss_mean': 2.3,\n",
       "  'loss_max': 5,\n",
       "  'loss_min': 1,\n",
       "  'duration': 10},\n",
       " {'name': '2020-06-16T14.04.00',\n",
       "  'frames': 6437,\n",
       "  'integrity': 96.33343310386113,\n",
       "  'loss_mean': 1.662162162162162,\n",
       "  'loss_max': 2,\n",
       "  'loss_min': 1,\n",
       "  'duration': 86},\n",
       " {'name': '2020-06-16T14.09.23',\n",
       "  'frames': 23350,\n",
       "  'integrity': 96.08262694428443,\n",
       "  'loss_mean': 1.7879924953095685,\n",
       "  'loss_max': 2,\n",
       "  'loss_min': 1,\n",
       "  'duration': 314},\n",
       " {'name': '2020-06-20T16.49.39',\n",
       "  'frames': 963,\n",
       "  'integrity': 93.58600583090379,\n",
       "  'loss_mean': 2.09375,\n",
       "  'loss_max': 5,\n",
       "  'loss_min': 1,\n",
       "  'duration': 33},\n",
       " {'name': '2020-06-18T16.56.15',\n",
       "  'frames': 549,\n",
       "  'integrity': 92.73648648648648,\n",
       "  'loss_mean': 2.4444444444444446,\n",
       "  'loss_max': 6,\n",
       "  'loss_min': 2,\n",
       "  'duration': 8},\n",
       " {'name': '2020-06-16T14.08.56',\n",
       "  'frames': 379,\n",
       "  'integrity': 96.19289340101524,\n",
       "  'loss_mean': 1.7777777777777777,\n",
       "  'loss_max': 2,\n",
       "  'loss_min': 1,\n",
       "  'duration': 5},\n",
       " {'name': '2020-06-16T14.01.03',\n",
       "  'frames': 148,\n",
       "  'integrity': 96.73202614379085,\n",
       "  'loss_mean': 2.0,\n",
       "  'loss_max': 2,\n",
       "  'loss_min': 2,\n",
       "  'duration': 2},\n",
       " {'name': '2020-06-18T17.00.59',\n",
       "  'frames': 270,\n",
       "  'integrity': 92.15017064846417,\n",
       "  'loss_mean': 2.4,\n",
       "  'loss_max': 4,\n",
       "  'loss_min': 2,\n",
       "  'duration': 4}]"
      ]
     },
     "execution_count": 6,
     "metadata": {},
     "output_type": "execute_result"
    }
   ],
   "source": [
    "get_recordings()"
   ]
  },
  {
   "cell_type": "code",
   "execution_count": 23,
   "metadata": {},
   "outputs": [
    {
     "name": "stdout",
     "output_type": "stream",
     "text": [
      "downloading frame 0\n",
      "downloading frame 1\n",
      "downloading frame 2\n",
      "downloading frame 3\n",
      "downloading frame 4\n",
      "downloading frame 5\n"
     ]
    },
    {
     "data": {
      "text/plain": [
       "'2020-06-16T14.00.50_0-5'"
      ]
     },
     "execution_count": 23,
     "metadata": {},
     "output_type": "execute_result"
    }
   ],
   "source": [
    "# download_partial_recording(name, [start, end])\n",
    "# only name to save the whole file\n",
    "# only start to save the n=start frame\n",
    "# both start and end to save [start, end]\n",
    "download_partial_recording('2020-06-16T14.00.50', 0, 5)"
   ]
  },
  {
   "cell_type": "code",
   "execution_count": 25,
   "metadata": {},
   "outputs": [
    {
     "data": {
      "text/plain": [
       "[(0, 11565), (1, 11565), (2, 11565), (3, 11565)]"
      ]
     },
     "execution_count": 25,
     "metadata": {},
     "output_type": "execute_result"
    }
   ],
   "source": [
    "# slice_pixel(name, pixel, [start, end])\n",
    "# only name and pixel to check the whole file\n",
    "# only start to get pixel from n=start frame\n",
    "# both start and end to get pixels [start, end]\n",
    "slice_pixel('2020-06-16T14.00.50_0-5', 1, 0, 3)"
   ]
  },
  {
   "cell_type": "code",
   "execution_count": 32,
   "metadata": {},
   "outputs": [
    {
     "name": "stdout",
     "output_type": "stream",
     "text": [
      "processing (0/5)\n",
      "2949120 2949120\n",
      "processing (1/5)\n",
      "2949120 2949120\n",
      "processing (2/5)\n",
      "2949120 2949120\n",
      "processing (3/5)\n",
      "2949120 2949120\n",
      "processing (4/5)\n",
      "2949120 2949120\n",
      "processing (5/5)\n",
      "2949120 2949120\n"
     ]
    },
    {
     "data": {
      "text/plain": [
       "[(1868816, 126292),\n",
       " (1162272, 101016),\n",
       " (2032680, 84120),\n",
       " (2032648, 53420),\n",
       " (2032672, 44624),\n",
       " (2032656, 41732),\n",
       " (2160656, 41028),\n",
       " (1162256, 25644),\n",
       " (727056, 25608),\n",
       " (2211856, 24628),\n",
       " (2498592, 22692),\n",
       " (1428520, 22584),\n",
       " (1628192, 20248),\n",
       " (1530912, 20232),\n",
       " (1592352, 20228),\n",
       " (1300512, 20228),\n",
       " (10272, 19936),\n",
       " (1428512, 17972),\n",
       " (1300496, 16904),\n",
       " (2063384, 16744),\n",
       " (2401992, 16412),\n",
       " (2450992, 16392),\n",
       " (684816, 16388),\n",
       " (915792, 16368),\n",
       " (807696, 16356),\n",
       " (2032688, 14776),\n",
       " (1300504, 14396),\n",
       " (2032664, 14368),\n",
       " (357128, 10496),\n",
       " (1023192, 10408),\n",
       " (2063400, 10396),\n",
       " (782584, 10376),\n",
       " (1529616, 10296),\n",
       " (388968, 10228),\n",
       " (95848, 10212),\n",
       " (10200, 10160),\n",
       " (2164488, 10064),\n",
       " (2375720, 8268),\n",
       " (2450984, 8124),\n",
       " (1162248, 7164),\n",
       " (1162264, 6520),\n",
       " (915784, 6220),\n",
       " (2616344, 6088),\n",
       " (2570952, 5188),\n",
       " (2375712, 4228),\n",
       " (2202296, 4200),\n",
       " (2017296, 4140),\n",
       " (1112360, 4032),\n",
       " (1146888, 3968),\n",
       " (2402000, 3808),\n",
       " (2211848, 3124),\n",
       " (2450976, 3112),\n",
       " (2498584, 3100),\n",
       " (807688, 3080),\n",
       " (1592336, 3068),\n",
       " (1529608, 3052),\n",
       " (2012856, 3048),\n",
       " (2164480, 3044),\n",
       " (1428504, 2200),\n",
       " (1628168, 2124),\n",
       " (1530904, 2124),\n",
       " (874088, 2100),\n",
       " (587528, 2084),\n",
       " (1628184, 2080),\n",
       " (1592344, 2072),\n",
       " (2017976, 2052),\n",
       " (741128, 2052),\n",
       " (459528, 2044),\n",
       " (10264, 2040),\n",
       " (2846744, 2036),\n",
       " (49752, 2036),\n",
       " (1735720, 2036),\n",
       " (643848, 2032),\n",
       " (1079048, 2032),\n",
       " (1920040, 2024),\n",
       " (276440, 2024),\n",
       " (1258248, 2020),\n",
       " (2401976, 2020),\n",
       " (1488504, 2020),\n",
       " (276216, 2008),\n",
       " (1770248, 2008),\n",
       " (2498576, 1996),\n",
       " (1416968, 1996),\n",
       " (684800, 1252),\n",
       " (2032640, 1092),\n",
       " (727048, 1088),\n",
       " (1843896, 1084),\n",
       " (2160640, 1064),\n",
       " (2401984, 1060),\n",
       " (2453176, 1040),\n",
       " (2160648, 1040),\n",
       " (2289352, 1032),\n",
       " (2658232, 1028),\n",
       " (276432, 1028),\n",
       " (2846736, 1024),\n",
       " (459520, 1020),\n",
       " (2171576, 1016),\n",
       " (587520, 1012),\n",
       " (2215680, 1004),\n",
       " (1438736, 1004)]"
      ]
     },
     "execution_count": 32,
     "metadata": {},
     "output_type": "execute_result"
    }
   ],
   "source": [
    "find_most_responsive_pixels('2020-06-16T14.00.50_0-5', 100, 0, 5)"
   ]
  }
 ],
 "metadata": {
  "kernelspec": {
   "display_name": "Python 3",
   "language": "python",
   "name": "python3"
  },
  "language_info": {
   "codemirror_mode": {
    "name": "ipython",
    "version": 3
   },
   "file_extension": ".py",
   "mimetype": "text/x-python",
   "name": "python",
   "nbconvert_exporter": "python",
   "pygments_lexer": "ipython3",
   "version": "3.8.3"
  }
 },
 "nbformat": 4,
 "nbformat_minor": 4
}
